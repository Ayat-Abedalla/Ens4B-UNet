{
 "cells": [
  {
   "cell_type": "markdown",
   "metadata": {
    "colab_type": "text",
    "id": "THp6o6TfF2zS"
   },
   "source": [
    "# Import libraries"
   ]
  },
  {
   "cell_type": "code",
   "execution_count": null,
   "metadata": {
    "colab": {
     "base_uri": "https://localhost:8080/",
     "height": 50
    },
    "colab_type": "code",
    "executionInfo": {
     "elapsed": 49999,
     "status": "ok",
     "timestamp": 1566684345573,
     "user": {
      "displayName": "Ayat Abedalla",
      "photoUrl": "",
      "userId": "15103931090097426877"
     },
     "user_tz": -180
    },
    "id": "1e9MpSBmF5sE",
    "outputId": "de1b408b-364d-4828-fec7-addb444421b3"
   },
   "outputs": [],
   "source": [
    "import warnings\n",
    "warnings.filterwarnings('ignore')\n",
    "\n",
    "import os\n",
    "import cv2\n",
    "import csv\n",
    "import pickle\n",
    "import pydicom\n",
    "import numpy as np\n",
    "import pandas as pd \n",
    "from glob import glob\n",
    "\n",
    "\n",
    "# import the necessary packages\n",
    "import keras\n",
    "import tensorflow as tf\n",
    "from keras import backend as K\n",
    "\n",
    "from dataset import prepare_data\n",
    "from metric_loss import my_iou_metric, iou_metric_batch_val, bce_dice_loss\n",
    "from predict import predict_result_val, prepare_test, get_test, get_prediction, get_rles\n",
    "from generator import DataGenerator, label_generator\n",
    "\n",
    "import seg_models\n",
    "keras.backend.set_image_data_format('channels_last')\n",
    "\n",
    "from keras.optimizers import SGD\n",
    "from keras.callbacks import ModelCheckpoint\n",
    "\n",
    "import sys\n",
    "sys.path.insert(0, 'siim-acr-pneumothorax-segmentation')\n",
    "from mask_functions import rle2mask, mask2rle\n",
    "\n",
    "## Seeding \n",
    "seed = 1994\n",
    "np.random.seed = seed\n",
    "os.environ['PYTHONHASHSEED'] = str(seed)\n",
    "tf.seed = seed\n",
    "\n",
    "import gc   #Gabage collector for cleaning deleted data from memory"
   ]
  },
  {
   "cell_type": "markdown",
   "metadata": {
    "colab_type": "text",
    "id": "eEU199y-GLtK"
   },
   "source": [
    "# Dataset"
   ]
  },
  {
   "cell_type": "code",
   "execution_count": null,
   "metadata": {},
   "outputs": [],
   "source": [
    "# defining configuration parameters\n",
    "org_size = 1024 # original image size\n",
    "img_size = 512  #512 # image resize size\n",
    "batch_size = 4 # batch size for training unet"
   ]
  },
  {
   "cell_type": "markdown",
   "metadata": {
    "colab_type": "text",
    "id": "lJcvxgVbjjYF"
   },
   "source": [
    "## Load train and validation data from files"
   ]
  },
  {
   "cell_type": "code",
   "execution_count": null,
   "metadata": {
    "colab": {},
    "colab_type": "code",
    "id": "mGyAtfELguX1"
   },
   "outputs": [],
   "source": [
    "pkl_file_train = open('process_data/X_train.pkl', 'rb')\n",
    "\n",
    "X_train = pickle.load(pkl_file_train)"
   ]
  },
  {
   "cell_type": "code",
   "execution_count": null,
   "metadata": {
    "colab": {},
    "colab_type": "code",
    "id": "XVlIQFjOgdkt"
   },
   "outputs": [],
   "source": [
    "pkl_file_val = open('process_data/X_val.pkl', 'rb')\n",
    "\n",
    "X_val = pickle.load(pkl_file_val)"
   ]
  },
  {
   "cell_type": "code",
   "execution_count": null,
   "metadata": {
    "colab": {},
    "colab_type": "code",
    "id": "yefLxH_wgiuQ"
   },
   "outputs": [],
   "source": [
    "pkl_file_masks = open('process_data/masks.pkl', 'rb')\n",
    "\n",
    "masks = pickle.load(pkl_file_masks)"
   ]
  },
  {
   "cell_type": "markdown",
   "metadata": {
    "colab_type": "text",
    "id": "b_2eO3MjSUnJ"
   },
   "source": [
    "## Data generation & Augmentations"
   ]
  },
  {
   "cell_type": "code",
   "execution_count": null,
   "metadata": {
    "colab": {},
    "colab_type": "code",
    "id": "V00rfTEyBGDz"
   },
   "outputs": [],
   "source": [
    "import albumentations as A"
   ]
  },
  {
   "cell_type": "code",
   "execution_count": null,
   "metadata": {
    "colab": {},
    "colab_type": "code",
    "id": "Q-YK150LAmPi"
   },
   "outputs": [],
   "source": [
    "training_augmentation = A.Compose([\n",
    "    A.HorizontalFlip(p=0.5),\n",
    "    A.OneOf([\n",
    "        A.CLAHE(),\n",
    "        A.RandomContrast(),\n",
    "        A.RandomGamma(),\n",
    "        A.RandomBrightness(),\n",
    "         ], p=0.3),\n",
    "    A.OneOf([\n",
    "        A.ElasticTransform(alpha=120, sigma=120 * 0.05, alpha_affine=120 * 0.03),\n",
    "        A.GridDistortion(),\n",
    "        A.OpticalDistortion(distort_limit=2, shift_limit=0.5),\n",
    "        ], p=0.3),\n",
    "    A.ShiftScaleRotate(shift_limit=0.2, scale_limit=0.2, rotate_limit=20,\n",
    "                                        border_mode=cv2.BORDER_CONSTANT, p=0.5),\n",
    "    #A.RandomSizedCrop(min_max_height=(412, 512), height=img_size, width=img_size,p=0.25)\n",
    "],p=1)"
   ]
  },
  {
   "cell_type": "code",
   "execution_count": null,
   "metadata": {
    "colab": {},
    "colab_type": "code",
    "id": "3-aGAPOoxyqd"
   },
   "outputs": [],
   "source": [
    "params_train = {'img_size': img_size,\n",
    "          'batch_size': batch_size,\n",
    "          'n_channels': 3,\n",
    "          'shuffle': True,\n",
    "           'augmentations':training_augmentation,\n",
    "           }\n",
    "\n",
    "params_val = {'img_size': img_size,\n",
    "          'batch_size': batch_size,\n",
    "          'n_channels': 3,\n",
    "          'shuffle': True,\n",
    "         }\n",
    "\n",
    "# Generators\n",
    "training_generator = DataGenerator(X_train, masks, **params_train)\n",
    "validation_generator = DataGenerator(X_val, masks, **params_val)"
   ]
  },
  {
   "cell_type": "code",
   "execution_count": null,
   "metadata": {
    "colab": {
     "base_uri": "https://localhost:8080/",
     "height": 50
    },
    "colab_type": "code",
    "executionInfo": {
     "elapsed": 82552,
     "status": "ok",
     "timestamp": 1566667648653,
     "user": {
      "displayName": "Ayat Abedalla",
      "photoUrl": "",
      "userId": "05056855885374700462"
     },
     "user_tz": -180
    },
    "id": "eYf50HgCyOo3",
    "outputId": "ab07290f-9e46-4b16-aa5e-23abf04294d5"
   },
   "outputs": [],
   "source": [
    "x, y = training_generator.__getitem__(0)\n",
    "print(x.shape, y.shape)"
   ]
  },
  {
   "cell_type": "markdown",
   "metadata": {
    "colab_type": "text",
    "id": "qXOOUV31S4Qv"
   },
   "source": [
    "# Segmentation model"
   ]
  },
  {
   "cell_type": "code",
   "execution_count": null,
   "metadata": {},
   "outputs": [],
   "source": [
    "K.clear_session()"
   ]
  },
  {
   "cell_type": "code",
   "execution_count": null,
   "metadata": {
    "colab": {
     "base_uri": "https://localhost:8080/",
     "height": 1000
    },
    "colab_type": "code",
    "executionInfo": {
     "elapsed": 10532,
     "status": "ok",
     "timestamp": 1566679061177,
     "user": {
      "displayName": "Ayat Abedalla",
      "photoUrl": "",
      "userId": "05056855885374700462"
     },
     "user_tz": -180
    },
    "id": "nResy82lwhLY",
    "outputId": "f955e510-02cb-49a2-fa4e-52b0e0e8d509"
   },
   "outputs": [],
   "source": [
    "BACKBONE = 'efficientnetb4'\n",
    "unet_eff = seg_models.Unet(backbone_name=BACKBONE, encoder_weights='imagenet')#, decoder_use_batchnorm=False\n",
    "unet_eff.summary()"
   ]
  },
  {
   "cell_type": "code",
   "execution_count": null,
   "metadata": {},
   "outputs": [],
   "source": [
    "unet_eff.compile(optimizer=Adam(), loss=seg_models.losses.bce_dice_loss, metrics=[my_iou_metric])"
   ]
  },
  {
   "cell_type": "code",
   "execution_count": null,
   "metadata": {},
   "outputs": [],
   "source": [
    "epochs = 80\n",
    "swa = SWA('model_output/512_efficientnetb4_swa.model',76)\n",
    "\n",
    "callbacks = [\n",
    "    ModelCheckpoint(\"model_output/512_efficientnetb4.model\",monitor='val_loss', \n",
    "                            mode = 'min', save_best_only=True,\n",
    "                            verbose=1),\n",
    "    swa,\n",
    "    CosineAnnealingScheduler(T_max=epochs, eta_max=1e-4, eta_min=1e-6, verbose=1)\n",
    "]"
   ]
  },
  {
   "cell_type": "code",
   "execution_count": null,
   "metadata": {},
   "outputs": [],
   "source": [
    "history = unet_eff.fit_generator(generator=training_generator,\n",
    "                            validation_data=validation_generator,   \n",
    "                            epochs=epochs, verbose=1,\n",
    "                            callbacks=callbacks)"
   ]
  },
  {
   "cell_type": "code",
   "execution_count": null,
   "metadata": {},
   "outputs": [],
   "source": [
    "# list all data in history\n",
    "print(history.history.keys())\n",
    "\n",
    "# summarize history for iou\n",
    "plt.figure(figsize=(20,5))\n",
    "plt.subplot(1,2,1)\n",
    "plt.plot(history.history['my_iou_metric'])\n",
    "plt.plot(history.history['val_my_iou_metric'])\n",
    "plt.title('model IOU')\n",
    "plt.ylabel('iou')\n",
    "plt.xlabel('epoch')\n",
    "plt.legend(['train', 'Validation'], loc='upper left')\n",
    "\n",
    "# summarize history for loss\n",
    "plt.subplot(1,2,2)\n",
    "plt.plot(history.history['loss'])\n",
    "plt.plot(history.history['val_loss'])\n",
    "plt.title('model loss')\n",
    "plt.ylabel('loss')\n",
    "plt.xlabel('epoch')\n",
    "plt.legend(['train', 'Validation'], loc='upper left')"
   ]
  },
  {
   "cell_type": "code",
   "execution_count": null,
   "metadata": {},
   "outputs": [],
   "source": [
    "# Load best model or swa model\n",
    "print('using swa weight model')\n",
    "unet_eff.load_weights('model_output/512_efficientnetb4_swa.model')"
   ]
  },
  {
   "cell_type": "code",
   "execution_count": null,
   "metadata": {},
   "outputs": [],
   "source": [
    "scores = unet_eff.evaluate_generator(validation_generator)\n",
    "\n",
    "print(\"Loss: {:.5}\".format(scores[0]))\n",
    "print(\"mean  {:.5}\".format(scores[1]))"
   ]
  },
  {
   "cell_type": "markdown",
   "metadata": {},
   "source": [
    "# Evaluation validation data"
   ]
  },
  {
   "cell_type": "code",
   "execution_count": null,
   "metadata": {},
   "outputs": [],
   "source": [
    "params_val = {'img_size': img_size,\n",
    "          'batch_size': 5,\n",
    "          'n_channels': 3,\n",
    "          'shuffle': False,\n",
    "         }\n",
    "\n",
    "# Generators\n",
    "validation_generator = DataGenerator(X_val, masks, **params_val)"
   ]
  },
  {
   "cell_type": "code",
   "execution_count": null,
   "metadata": {},
   "outputs": [],
   "source": [
    "AUGMENTATIONS_TEST_FLIPPED = A.Compose([\n",
    "    A.HorizontalFlip(p=1),\n",
    "],p=1)\n",
    "\n",
    "params_val_flip = {'img_size': img_size,\n",
    "          'batch_size': 5,\n",
    "          'n_channels': 3,\n",
    "          'shuffle': False,\n",
    "        'augmentations':AUGMENTATIONS_TEST_FLIPPED,\n",
    "         }\n",
    "\n",
    "validation_generator_flipped = DataGenerator(X_val, masks, **params_val_flip)"
   ]
  },
  {
   "cell_type": "code",
   "execution_count": null,
   "metadata": {},
   "outputs": [],
   "source": [
    "preds_valid_orig = predict_result(unet_eff,validation_generator,img_size)\n",
    "preds_valid_flipped = predict_result(unet_eff,validation_generator_flipped,img_size)\n",
    "preds_valid_flipped = np.array([np.fliplr(x) for x in preds_valid_flipped])\n",
    "preds_valid = 0.5*preds_valid_orig + 0.5*preds_valid_flipped"
   ]
  },
  {
   "cell_type": "code",
   "execution_count": null,
   "metadata": {},
   "outputs": [],
   "source": [
    "np.savez_compressed('process_data/val_pre/efficientnetb4_preds_valid', array1= preds_valid)\n",
    "np.savez_compressed('process_data/val_pre/efficientnetb4_preds_valid_orig', array1= preds_valid_orig)"
   ]
  },
  {
   "cell_type": "code",
   "execution_count": null,
   "metadata": {},
   "outputs": [],
   "source": [
    "y_truth_val = label_generator(X_val, masks, len(preds_valid), img_size, 3)\n",
    "\n",
    "np.savez_compressed('process_data/val_pre/y_truth_val', array1= y_truth_val)"
   ]
  },
  {
   "cell_type": "code",
   "execution_count": null,
   "metadata": {},
   "outputs": [],
   "source": [
    "decompressed_array= np.load(\"process_data/val_pre/y_truth_val.npz\")  \n",
    "y_truth_val = decompressed_array['array1']"
   ]
  },
  {
   "cell_type": "code",
   "execution_count": null,
   "metadata": {},
   "outputs": [],
   "source": [
    "## Scoring for last model\n",
    "score = 0.0\n",
    "mask_area = 0\n",
    "best_th = 0\n",
    "\n",
    "thresholds = np.arange(0.2, 0.9, 0.01) \n",
    "areas = [1024, 2048, 3072, 4096]\n",
    "for threshold in tqdm(thresholds):\n",
    "    for area in tqdm(areas):\n",
    "        iou = iou_metric_batch_val(y_truth_val, np.int32(preds_valid > threshold), area)\n",
    "        if iou > score:\n",
    "            score = iou\n",
    "            mask_area = area\n",
    "            best_th = threshold\n",
    "            print(\"Threshold {}\\tMask area {}\\tIoU {}\".format(best_th, mask_area, score))\n",
    "    print()"
   ]
  },
  {
   "cell_type": "markdown",
   "metadata": {
    "colab_type": "text",
    "id": "S2CzRZkloprR"
   },
   "source": [
    "# Test Prediction"
   ]
  },
  {
   "cell_type": "code",
   "execution_count": null,
   "metadata": {},
   "outputs": [],
   "source": [
    "test_file = 'stage2_siim_data/stage_2_images/*.dcm'\n",
    "test_metadata_df = prepare_test(test_file, rle_file)"
   ]
  },
  {
   "cell_type": "code",
   "execution_count": null,
   "metadata": {},
   "outputs": [],
   "source": [
    "test_data = get_test(3205, test_metadata_df, img_size=img_size, channels=3) #0, 1068, 2136, 3205\n",
    "print(test_data.shape)"
   ]
  },
  {
   "cell_type": "code",
   "execution_count": null,
   "metadata": {},
   "outputs": [],
   "source": [
    "efficientb4_512_preds_test = get_prediction(unet_eff, test_data, batch_size=batch_size)"
   ]
  },
  {
   "cell_type": "code",
   "execution_count": null,
   "metadata": {},
   "outputs": [],
   "source": [
    "decompressed_array= np.load(\"process_data/test_pre/efficientb4_512_preds_test.npz\")  \n",
    "efficientb4_512_preds_test = decompressed_array['array1']"
   ]
  },
  {
   "cell_type": "code",
   "execution_count": null,
   "metadata": {},
   "outputs": [],
   "source": [
    "rles = get_rles(preds_test, b_th = 0.55, r_th = 2048)"
   ]
  },
  {
   "cell_type": "code",
   "execution_count": null,
   "metadata": {},
   "outputs": [],
   "source": [
    "test_fn = sorted(glob('stage2_siim_data/stage_2_images/*.dcm'))\n",
    "test_IDs = [o.split('/')[-1][:-4] for o in test_fn]"
   ]
  },
  {
   "cell_type": "code",
   "execution_count": null,
   "metadata": {
    "colab": {
     "base_uri": "https://localhost:8080/",
     "height": 195
    },
    "colab_type": "code",
    "executionInfo": {
     "elapsed": 505153,
     "status": "ok",
     "timestamp": 1566679750109,
     "user": {
      "displayName": "Ayat Abedalla",
      "photoUrl": "",
      "userId": "05056855885374700462"
     },
     "user_tz": -180
    },
    "id": "98PMy6EAb9zB",
    "outputId": "8c3e4829-efeb-4120-e47d-29013797bcc6"
   },
   "outputs": [],
   "source": [
    "sub_df = pd.DataFrame({'ImageId': test_IDs, 'EncodedPixels': rles})\n",
    "sub_df.loc[sub_df.EncodedPixels=='', 'EncodedPixels'] = '-1'\n",
    "sub_df.head()"
   ]
  },
  {
   "cell_type": "code",
   "execution_count": null,
   "metadata": {
    "colab": {},
    "colab_type": "code",
    "id": "cKu1ZrZtcKCb"
   },
   "outputs": [],
   "source": [
    "sub_df.to_csv('model_submission/efficientb4_submission.csv', index=False)"
   ]
  },
  {
   "cell_type": "code",
   "execution_count": null,
   "metadata": {
    "colab": {},
    "colab_type": "code",
    "id": "6nSv4P6m92fX"
   },
   "outputs": [],
   "source": [
    "sub_df['EncodedPixels'].value_counts(normalize=True) * 100"
   ]
  }
 ],
 "metadata": {
  "accelerator": "GPU",
  "colab": {
   "collapsed_sections": [
    "ktrEY0F7ADAs",
    "eEU199y-GLtK",
    "VQFNnJXdGdWC",
    "2KGkzJp8J9k2",
    "RB8DuEFnlrnB",
    "QpFho6GijWBO",
    "lJcvxgVbjjYF",
    "TkqcNX8PKPbO",
    "XtcnoMPmznha",
    "P6CpV74To8Uj",
    "PM4Hg9zzm50H",
    "p49m3i2XKjP_",
    "aT22GRSfuavg",
    "lL_fGm1Xwuxb"
   ],
   "machine_shape": "hm",
   "name": "model_resnet.ipynb",
   "provenance": [],
   "version": "0.3.2"
  },
  "kernelspec": {
   "display_name": "Python 3",
   "language": "python",
   "name": "python3"
  },
  "language_info": {
   "codemirror_mode": {
    "name": "ipython",
    "version": 3
   },
   "file_extension": ".py",
   "mimetype": "text/x-python",
   "name": "python",
   "nbconvert_exporter": "python",
   "pygments_lexer": "ipython3",
   "version": "3.6.8"
  }
 },
 "nbformat": 4,
 "nbformat_minor": 1
}
